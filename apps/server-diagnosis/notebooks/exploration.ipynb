{
 "cells": [
  {
   "cell_type": "code",
   "execution_count": 1,
   "id": "196548bc",
   "metadata": {
    "execution": {
     "iopub.execute_input": "2022-09-22T09:45:16.801435Z",
     "iopub.status.busy": "2022-09-22T09:45:16.800368Z",
     "iopub.status.idle": "2022-09-22T09:45:17.600659Z",
     "shell.execute_reply": "2022-09-22T09:45:17.599728Z"
    },
    "papermill": {
     "duration": 0.819937,
     "end_time": "2022-09-22T09:45:17.603322",
     "exception": false,
     "start_time": "2022-09-22T09:45:16.783385",
     "status": "completed"
    },
    "tags": []
   },
   "outputs": [],
   "source": [
    "import pandas as pd\n",
    "import numpy as np\n",
    "import pickle\n",
    "import sklearn "
   ]
  },
  {
   "cell_type": "code",
   "execution_count": 8,
   "id": "ea7956ce",
   "metadata": {},
   "outputs": [
    {
     "data": {
      "text/plain": [
       "'d:\\\\PAW\\\\Hatiku-Tugas-PAW\\\\apps\\\\server-diagnosis\\\\notebooks'"
      ]
     },
     "execution_count": 8,
     "metadata": {},
     "output_type": "execute_result"
    }
   ],
   "source": [
    "import os\n",
    "os.getcwd()"
   ]
  },
  {
   "cell_type": "code",
   "execution_count": 10,
   "id": "3933195e",
   "metadata": {
    "execution": {
     "iopub.execute_input": "2022-09-22T09:45:17.624906Z",
     "iopub.status.busy": "2022-09-22T09:45:17.623941Z",
     "iopub.status.idle": "2022-09-22T09:45:17.729219Z",
     "shell.execute_reply": "2022-09-22T09:45:17.728266Z"
    },
    "papermill": {
     "duration": 0.118405,
     "end_time": "2022-09-22T09:45:17.731750",
     "exception": false,
     "start_time": "2022-09-22T09:45:17.613345",
     "status": "completed"
    },
    "tags": []
   },
   "outputs": [
    {
     "ename": "FileNotFoundError",
     "evalue": "[Errno 2] No such file or directory: 'apps\\\\server-diagnosis\\\\input\\\\cvd_risk_train.csv'",
     "output_type": "error",
     "traceback": [
      "\u001b[1;31m---------------------------------------------------------------------------\u001b[0m",
      "\u001b[1;31mFileNotFoundError\u001b[0m                         Traceback (most recent call last)",
      "\u001b[1;32m~\\AppData\\Local\\Temp\\ipykernel_10028\\808140985.py\u001b[0m in \u001b[0;36m<module>\u001b[1;34m\u001b[0m\n\u001b[1;32m----> 1\u001b[1;33m \u001b[0mdf\u001b[0m\u001b[1;33m=\u001b[0m\u001b[0mpd\u001b[0m\u001b[1;33m.\u001b[0m\u001b[0mread_csv\u001b[0m\u001b[1;33m(\u001b[0m\u001b[1;34m\"apps\\\\server-diagnosis\\\\input\\\\cvd_risk_train.csv\"\u001b[0m\u001b[1;33m,\u001b[0m\u001b[0msep\u001b[0m\u001b[1;33m=\u001b[0m\u001b[1;34m','\u001b[0m\u001b[1;33m)\u001b[0m\u001b[1;33m\u001b[0m\u001b[1;33m\u001b[0m\u001b[0m\n\u001b[0m\u001b[0;32m      2\u001b[0m \u001b[0mdf\u001b[0m\u001b[1;33m=\u001b[0m\u001b[0mdf\u001b[0m\u001b[1;33m.\u001b[0m\u001b[0mdrop\u001b[0m\u001b[1;33m(\u001b[0m\u001b[1;33m[\u001b[0m\u001b[1;34m'id'\u001b[0m\u001b[1;33m]\u001b[0m\u001b[1;33m,\u001b[0m\u001b[0maxis\u001b[0m\u001b[1;33m=\u001b[0m\u001b[1;36m1\u001b[0m\u001b[1;33m)\u001b[0m\u001b[1;33m\u001b[0m\u001b[1;33m\u001b[0m\u001b[0m\n\u001b[0;32m      3\u001b[0m \u001b[0mx\u001b[0m\u001b[1;33m=\u001b[0m\u001b[0mdf\u001b[0m\u001b[1;33m.\u001b[0m\u001b[0mdrop\u001b[0m\u001b[1;33m(\u001b[0m\u001b[1;33m[\u001b[0m\u001b[1;34m'cardio'\u001b[0m\u001b[1;33m]\u001b[0m\u001b[1;33m,\u001b[0m\u001b[0maxis\u001b[0m\u001b[1;33m=\u001b[0m\u001b[1;36m1\u001b[0m\u001b[1;33m)\u001b[0m\u001b[1;33m\u001b[0m\u001b[1;33m\u001b[0m\u001b[0m\n\u001b[0;32m      4\u001b[0m \u001b[0my\u001b[0m\u001b[1;33m=\u001b[0m\u001b[0mdf\u001b[0m\u001b[1;33m[\u001b[0m\u001b[1;34m'cardio'\u001b[0m\u001b[1;33m]\u001b[0m\u001b[1;33m\u001b[0m\u001b[1;33m\u001b[0m\u001b[0m\n\u001b[0;32m      5\u001b[0m \u001b[1;33m\u001b[0m\u001b[0m\n",
      "\u001b[1;32md:\\Users\\ryank\\anaconda3\\lib\\site-packages\\pandas\\util\\_decorators.py\u001b[0m in \u001b[0;36mwrapper\u001b[1;34m(*args, **kwargs)\u001b[0m\n\u001b[0;32m    309\u001b[0m                     \u001b[0mstacklevel\u001b[0m\u001b[1;33m=\u001b[0m\u001b[0mstacklevel\u001b[0m\u001b[1;33m,\u001b[0m\u001b[1;33m\u001b[0m\u001b[1;33m\u001b[0m\u001b[0m\n\u001b[0;32m    310\u001b[0m                 )\n\u001b[1;32m--> 311\u001b[1;33m             \u001b[1;32mreturn\u001b[0m \u001b[0mfunc\u001b[0m\u001b[1;33m(\u001b[0m\u001b[1;33m*\u001b[0m\u001b[0margs\u001b[0m\u001b[1;33m,\u001b[0m \u001b[1;33m**\u001b[0m\u001b[0mkwargs\u001b[0m\u001b[1;33m)\u001b[0m\u001b[1;33m\u001b[0m\u001b[1;33m\u001b[0m\u001b[0m\n\u001b[0m\u001b[0;32m    312\u001b[0m \u001b[1;33m\u001b[0m\u001b[0m\n\u001b[0;32m    313\u001b[0m         \u001b[1;32mreturn\u001b[0m \u001b[0mwrapper\u001b[0m\u001b[1;33m\u001b[0m\u001b[1;33m\u001b[0m\u001b[0m\n",
      "\u001b[1;32md:\\Users\\ryank\\anaconda3\\lib\\site-packages\\pandas\\io\\parsers\\readers.py\u001b[0m in \u001b[0;36mread_csv\u001b[1;34m(filepath_or_buffer, sep, delimiter, header, names, index_col, usecols, squeeze, prefix, mangle_dupe_cols, dtype, engine, converters, true_values, false_values, skipinitialspace, skiprows, skipfooter, nrows, na_values, keep_default_na, na_filter, verbose, skip_blank_lines, parse_dates, infer_datetime_format, keep_date_col, date_parser, dayfirst, cache_dates, iterator, chunksize, compression, thousands, decimal, lineterminator, quotechar, quoting, doublequote, escapechar, comment, encoding, encoding_errors, dialect, error_bad_lines, warn_bad_lines, on_bad_lines, delim_whitespace, low_memory, memory_map, float_precision, storage_options)\u001b[0m\n\u001b[0;32m    676\u001b[0m     \u001b[0mkwds\u001b[0m\u001b[1;33m.\u001b[0m\u001b[0mupdate\u001b[0m\u001b[1;33m(\u001b[0m\u001b[0mkwds_defaults\u001b[0m\u001b[1;33m)\u001b[0m\u001b[1;33m\u001b[0m\u001b[1;33m\u001b[0m\u001b[0m\n\u001b[0;32m    677\u001b[0m \u001b[1;33m\u001b[0m\u001b[0m\n\u001b[1;32m--> 678\u001b[1;33m     \u001b[1;32mreturn\u001b[0m \u001b[0m_read\u001b[0m\u001b[1;33m(\u001b[0m\u001b[0mfilepath_or_buffer\u001b[0m\u001b[1;33m,\u001b[0m \u001b[0mkwds\u001b[0m\u001b[1;33m)\u001b[0m\u001b[1;33m\u001b[0m\u001b[1;33m\u001b[0m\u001b[0m\n\u001b[0m\u001b[0;32m    679\u001b[0m \u001b[1;33m\u001b[0m\u001b[0m\n\u001b[0;32m    680\u001b[0m \u001b[1;33m\u001b[0m\u001b[0m\n",
      "\u001b[1;32md:\\Users\\ryank\\anaconda3\\lib\\site-packages\\pandas\\io\\parsers\\readers.py\u001b[0m in \u001b[0;36m_read\u001b[1;34m(filepath_or_buffer, kwds)\u001b[0m\n\u001b[0;32m    573\u001b[0m \u001b[1;33m\u001b[0m\u001b[0m\n\u001b[0;32m    574\u001b[0m     \u001b[1;31m# Create the parser.\u001b[0m\u001b[1;33m\u001b[0m\u001b[1;33m\u001b[0m\u001b[0m\n\u001b[1;32m--> 575\u001b[1;33m     \u001b[0mparser\u001b[0m \u001b[1;33m=\u001b[0m \u001b[0mTextFileReader\u001b[0m\u001b[1;33m(\u001b[0m\u001b[0mfilepath_or_buffer\u001b[0m\u001b[1;33m,\u001b[0m \u001b[1;33m**\u001b[0m\u001b[0mkwds\u001b[0m\u001b[1;33m)\u001b[0m\u001b[1;33m\u001b[0m\u001b[1;33m\u001b[0m\u001b[0m\n\u001b[0m\u001b[0;32m    576\u001b[0m \u001b[1;33m\u001b[0m\u001b[0m\n\u001b[0;32m    577\u001b[0m     \u001b[1;32mif\u001b[0m \u001b[0mchunksize\u001b[0m \u001b[1;32mor\u001b[0m \u001b[0miterator\u001b[0m\u001b[1;33m:\u001b[0m\u001b[1;33m\u001b[0m\u001b[1;33m\u001b[0m\u001b[0m\n",
      "\u001b[1;32md:\\Users\\ryank\\anaconda3\\lib\\site-packages\\pandas\\io\\parsers\\readers.py\u001b[0m in \u001b[0;36m__init__\u001b[1;34m(self, f, engine, **kwds)\u001b[0m\n\u001b[0;32m    930\u001b[0m \u001b[1;33m\u001b[0m\u001b[0m\n\u001b[0;32m    931\u001b[0m         \u001b[0mself\u001b[0m\u001b[1;33m.\u001b[0m\u001b[0mhandles\u001b[0m\u001b[1;33m:\u001b[0m \u001b[0mIOHandles\u001b[0m \u001b[1;33m|\u001b[0m \u001b[1;32mNone\u001b[0m \u001b[1;33m=\u001b[0m \u001b[1;32mNone\u001b[0m\u001b[1;33m\u001b[0m\u001b[1;33m\u001b[0m\u001b[0m\n\u001b[1;32m--> 932\u001b[1;33m         \u001b[0mself\u001b[0m\u001b[1;33m.\u001b[0m\u001b[0m_engine\u001b[0m \u001b[1;33m=\u001b[0m \u001b[0mself\u001b[0m\u001b[1;33m.\u001b[0m\u001b[0m_make_engine\u001b[0m\u001b[1;33m(\u001b[0m\u001b[0mf\u001b[0m\u001b[1;33m,\u001b[0m \u001b[0mself\u001b[0m\u001b[1;33m.\u001b[0m\u001b[0mengine\u001b[0m\u001b[1;33m)\u001b[0m\u001b[1;33m\u001b[0m\u001b[1;33m\u001b[0m\u001b[0m\n\u001b[0m\u001b[0;32m    933\u001b[0m \u001b[1;33m\u001b[0m\u001b[0m\n\u001b[0;32m    934\u001b[0m     \u001b[1;32mdef\u001b[0m \u001b[0mclose\u001b[0m\u001b[1;33m(\u001b[0m\u001b[0mself\u001b[0m\u001b[1;33m)\u001b[0m\u001b[1;33m:\u001b[0m\u001b[1;33m\u001b[0m\u001b[1;33m\u001b[0m\u001b[0m\n",
      "\u001b[1;32md:\\Users\\ryank\\anaconda3\\lib\\site-packages\\pandas\\io\\parsers\\readers.py\u001b[0m in \u001b[0;36m_make_engine\u001b[1;34m(self, f, engine)\u001b[0m\n\u001b[0;32m   1214\u001b[0m             \u001b[1;31m# \"Union[str, PathLike[str], ReadCsvBuffer[bytes], ReadCsvBuffer[str]]\"\u001b[0m\u001b[1;33m\u001b[0m\u001b[1;33m\u001b[0m\u001b[0m\n\u001b[0;32m   1215\u001b[0m             \u001b[1;31m# , \"str\", \"bool\", \"Any\", \"Any\", \"Any\", \"Any\", \"Any\"\u001b[0m\u001b[1;33m\u001b[0m\u001b[1;33m\u001b[0m\u001b[0m\n\u001b[1;32m-> 1216\u001b[1;33m             self.handles = get_handle(  # type: ignore[call-overload]\n\u001b[0m\u001b[0;32m   1217\u001b[0m                 \u001b[0mf\u001b[0m\u001b[1;33m,\u001b[0m\u001b[1;33m\u001b[0m\u001b[1;33m\u001b[0m\u001b[0m\n\u001b[0;32m   1218\u001b[0m                 \u001b[0mmode\u001b[0m\u001b[1;33m,\u001b[0m\u001b[1;33m\u001b[0m\u001b[1;33m\u001b[0m\u001b[0m\n",
      "\u001b[1;32md:\\Users\\ryank\\anaconda3\\lib\\site-packages\\pandas\\io\\common.py\u001b[0m in \u001b[0;36mget_handle\u001b[1;34m(path_or_buf, mode, encoding, compression, memory_map, is_text, errors, storage_options)\u001b[0m\n\u001b[0;32m    784\u001b[0m         \u001b[1;32mif\u001b[0m \u001b[0mioargs\u001b[0m\u001b[1;33m.\u001b[0m\u001b[0mencoding\u001b[0m \u001b[1;32mand\u001b[0m \u001b[1;34m\"b\"\u001b[0m \u001b[1;32mnot\u001b[0m \u001b[1;32min\u001b[0m \u001b[0mioargs\u001b[0m\u001b[1;33m.\u001b[0m\u001b[0mmode\u001b[0m\u001b[1;33m:\u001b[0m\u001b[1;33m\u001b[0m\u001b[1;33m\u001b[0m\u001b[0m\n\u001b[0;32m    785\u001b[0m             \u001b[1;31m# Encoding\u001b[0m\u001b[1;33m\u001b[0m\u001b[1;33m\u001b[0m\u001b[0m\n\u001b[1;32m--> 786\u001b[1;33m             handle = open(\n\u001b[0m\u001b[0;32m    787\u001b[0m                 \u001b[0mhandle\u001b[0m\u001b[1;33m,\u001b[0m\u001b[1;33m\u001b[0m\u001b[1;33m\u001b[0m\u001b[0m\n\u001b[0;32m    788\u001b[0m                 \u001b[0mioargs\u001b[0m\u001b[1;33m.\u001b[0m\u001b[0mmode\u001b[0m\u001b[1;33m,\u001b[0m\u001b[1;33m\u001b[0m\u001b[1;33m\u001b[0m\u001b[0m\n",
      "\u001b[1;31mFileNotFoundError\u001b[0m: [Errno 2] No such file or directory: 'apps\\\\server-diagnosis\\\\input\\\\cvd_risk_train.csv'"
     ]
    }
   ],
   "source": [
    "df=pd.read_csv(\"apps\\\\server-diagnosis\\\\input\\\\cvd_risk_train.csv\",sep=',')\n",
    "df=df.drop(['id'],axis=1)\n",
    "x=df.drop(['cardio'],axis=1)\n",
    "y=df['cardio']\n",
    "\n",
    "from sklearn.model_selection import train_test_split\n",
    "xtrain,xtest,ytrain,ytest=train_test_split(x,y,test_size=.3,random_state=1)"
   ]
  },
  {
   "cell_type": "markdown",
   "id": "8eb0a9c7",
   "metadata": {
    "papermill": {
     "duration": 0.011744,
     "end_time": "2022-09-22T09:45:19.296903",
     "exception": false,
     "start_time": "2022-09-22T09:45:19.285159",
     "status": "completed"
    },
    "tags": []
   },
   "source": [
    "## Random Forest Classification"
   ]
  },
  {
   "cell_type": "code",
   "execution_count": null,
   "id": "40967699",
   "metadata": {
    "execution": {
     "iopub.execute_input": "2022-09-22T09:45:19.321825Z",
     "iopub.status.busy": "2022-09-22T09:45:19.321482Z",
     "iopub.status.idle": "2022-09-22T09:45:19.465215Z",
     "shell.execute_reply": "2022-09-22T09:45:19.463974Z"
    },
    "papermill": {
     "duration": 0.159225,
     "end_time": "2022-09-22T09:45:19.467806",
     "exception": false,
     "start_time": "2022-09-22T09:45:19.308581",
     "status": "completed"
    },
    "tags": []
   },
   "outputs": [],
   "source": [
    "from sklearn.ensemble import RandomForestClassifier\n",
    "rfc=RandomForestClassifier(n_estimators=1000)\n",
    "rfc.fit(xtrain,ytrain)\n",
    "rfc.predict(xtest)\n",
    "rfc.score(xtest,ytest)\n",
    "pickle.dump(rfc, open('apps\\server-diagnosis\\models\\RFC_model.pkl','wb'))"
   ]
  },
  {
   "cell_type": "markdown",
   "id": "dddbfe84",
   "metadata": {
    "papermill": {
     "duration": 0.011913,
     "end_time": "2022-09-22T09:46:42.567079",
     "exception": false,
     "start_time": "2022-09-22T09:46:42.555166",
     "status": "completed"
    },
    "tags": []
   },
   "source": [
    "## Decision Tree"
   ]
  },
  {
   "cell_type": "code",
   "execution_count": null,
   "id": "c79a91e6",
   "metadata": {
    "execution": {
     "iopub.execute_input": "2022-09-22T09:46:42.593347Z",
     "iopub.status.busy": "2022-09-22T09:46:42.592645Z",
     "iopub.status.idle": "2022-09-22T09:46:42.597461Z",
     "shell.execute_reply": "2022-09-22T09:46:42.596609Z"
    },
    "papermill": {
     "duration": 0.020357,
     "end_time": "2022-09-22T09:46:42.599678",
     "exception": false,
     "start_time": "2022-09-22T09:46:42.579321",
     "status": "completed"
    },
    "tags": []
   },
   "outputs": [],
   "source": [
    "from sklearn.tree import DecisionTreeClassifier\n",
    "\n",
    "dtc=DecisionTreeClassifier()\n",
    "dtc.fit(xtrain,ytrain)\n",
    "dtc.predict(xtest)\n",
    "dtc.score(xtest,ytest)\n",
    "\n",
    "pickle.dump(dtc, open('apps\\server-diagnosis\\models\\DTC_model.pkl','wb'))"
   ]
  },
  {
   "cell_type": "markdown",
   "id": "2ca0c8ee",
   "metadata": {
    "papermill": {
     "duration": 0.012002,
     "end_time": "2022-09-22T09:46:43.030780",
     "exception": false,
     "start_time": "2022-09-22T09:46:43.018778",
     "status": "completed"
    },
    "tags": []
   },
   "source": [
    "## Kneighborclassifier"
   ]
  },
  {
   "cell_type": "code",
   "execution_count": null,
   "id": "81918d33",
   "metadata": {
    "execution": {
     "iopub.execute_input": "2022-09-22T09:46:43.055762Z",
     "iopub.status.busy": "2022-09-22T09:46:43.055458Z",
     "iopub.status.idle": "2022-09-22T09:46:43.059311Z",
     "shell.execute_reply": "2022-09-22T09:46:43.058601Z"
    },
    "papermill": {
     "duration": 0.0184,
     "end_time": "2022-09-22T09:46:43.061072",
     "exception": false,
     "start_time": "2022-09-22T09:46:43.042672",
     "status": "completed"
    },
    "tags": []
   },
   "outputs": [],
   "source": [
    "from sklearn.neighbors import KNeighborsClassifier\n",
    "knc=KNeighborsClassifier()\n",
    "knc.fit(xtrain,ytrain)\n",
    "knc.predict(xtest)\n",
    "knc.score(xtest,ytest)\n",
    "\n",
    "pickle.dump(knc, open('apps\\server-diagnosis\\models\\KNC_model.pkl','wb'))"
   ]
  },
  {
   "cell_type": "markdown",
   "id": "dc7d8992",
   "metadata": {
    "papermill": {
     "duration": 0.012879,
     "end_time": "2022-09-22T09:46:45.432211",
     "exception": false,
     "start_time": "2022-09-22T09:46:45.419332",
     "status": "completed"
    },
    "tags": []
   },
   "source": [
    "## SGDClassifier"
   ]
  },
  {
   "cell_type": "code",
   "execution_count": null,
   "id": "e3c35e4e",
   "metadata": {
    "execution": {
     "iopub.execute_input": "2022-09-22T09:46:45.459073Z",
     "iopub.status.busy": "2022-09-22T09:46:45.458181Z",
     "iopub.status.idle": "2022-09-22T09:46:45.463100Z",
     "shell.execute_reply": "2022-09-22T09:46:45.462246Z"
    },
    "papermill": {
     "duration": 0.020415,
     "end_time": "2022-09-22T09:46:45.465099",
     "exception": false,
     "start_time": "2022-09-22T09:46:45.444684",
     "status": "completed"
    },
    "tags": []
   },
   "outputs": [],
   "source": [
    "from sklearn.linear_model import SGDClassifier\n",
    "sgd=SGDClassifier()\n",
    "sgd.fit(xtrain,ytrain)\n",
    "sgd.predict(xtest)\n",
    "sgd.score(xtest,ytest)\n",
    "\n",
    "pickle.dump(sgd, open('apps\\server-diagnosis\\models\\SGD_model.pkl','wb'))"
   ]
  },
  {
   "cell_type": "code",
   "execution_count": null,
   "id": "30f17093",
   "metadata": {},
   "outputs": [
    {
     "name": "stdout",
     "output_type": "stream",
     "text": [
      "[1]\n",
      "[1]\n",
      "[1]\n",
      "[1]\n",
      "['age' 'gender' 'height' 'weight' 'ap_hi' 'ap_lo' 'cholesterol' 'gluc'\n",
      " 'smoke' 'alco' 'active']\n",
      "        age  gender  height  weight  ap_hi  ap_lo  cholesterol  gluc  smoke  \\\n",
      "0      50.0       2     168    62.0    110     80            1     1      0   \n",
      "1      55.0       1     156    85.0    140     90            3     1      0   \n",
      "2      52.0       1     165    64.0    130     70            3     1      0   \n",
      "3      48.0       2     169    82.0    150    100            1     1      0   \n",
      "4      48.0       1     156    56.0    100     60            1     1      0   \n",
      "...     ...     ...     ...     ...    ...    ...          ...   ...    ...   \n",
      "69995  53.0       2     168    76.0    120     80            1     1      1   \n",
      "69996  62.0       1     158   126.0    140     90            2     2      0   \n",
      "69997  52.0       2     183   105.0    180     90            3     1      0   \n",
      "69998  61.0       1     163    72.0    135     80            1     2      0   \n",
      "69999  56.0       1     170    72.0    120     80            2     1      0   \n",
      "\n",
      "       alco  active  cardio  \n",
      "0         0       1       0  \n",
      "1         0       1       1  \n",
      "2         0       0       1  \n",
      "3         0       1       1  \n",
      "4         0       0       0  \n",
      "...     ...     ...     ...  \n",
      "69995     0       1       0  \n",
      "69996     0       1       1  \n",
      "69997     1       0       1  \n",
      "69998     0       0       1  \n",
      "69999     0       1       0  \n",
      "\n",
      "[70000 rows x 12 columns]\n"
     ]
    },
    {
     "name": "stderr",
     "output_type": "stream",
     "text": [
      "c:\\Python\\Python38\\lib\\site-packages\\sklearn\\base.py:450: UserWarning: X does not have valid feature names, but SGDClassifier was fitted with feature names\n",
      "  warnings.warn(\n",
      "c:\\Python\\Python38\\lib\\site-packages\\sklearn\\base.py:450: UserWarning: X does not have valid feature names, but DecisionTreeClassifier was fitted with feature names\n",
      "  warnings.warn(\n",
      "c:\\Python\\Python38\\lib\\site-packages\\sklearn\\base.py:450: UserWarning: X does not have valid feature names, but KNeighborsClassifier was fitted with feature names\n",
      "  warnings.warn(\n",
      "c:\\Python\\Python38\\lib\\site-packages\\sklearn\\base.py:450: UserWarning: X does not have valid feature names, but RandomForestClassifier was fitted with feature names\n",
      "  warnings.warn(\n"
     ]
    }
   ],
   "source": [
    "#Testing sandbox for ml models\n",
    "\n",
    "\"\"\"\n",
    "Age | Objective Feature | age | int (year)\n",
    "Height | Objective Feature | height | int (cm) |\n",
    "Weight | Objective Feature | weight | float (kg) |\n",
    "Gender | Objective Feature | gender | categorical code |\n",
    "Systolic blood pressure | Examination Feature | ap_hi | int |\n",
    "Diastolic blood pressure | Examination Feature | ap_lo | int |\n",
    "Cholesterol | Examination Feature | cholesterol | 1: normal, 2: above normal, 3: well above normal |\n",
    "Glucose | Examination Feature | gluc | 1: normal, 2: above normal, 3: well above normal |\n",
    "Smoking | Subjective Feature | smoke | binary |\n",
    "Alcohol intake | Subjective Feature | alco | binary |\n",
    "Physical activity | Subjective Feature | active | binary |\n",
    "Presence or absence of cardiovascular disease | Target Variable | cardio | binary |\n",
    "All of the dataset values were collected at the moment of medical examination.\n",
    "\n",
    "['age', 'gender', 'height', 'weight', 'ap_hi', 'ap_lo', 'cholesterol', 'gluc','smoke', 'alco', 'active']\n",
    "\"\"\"\n",
    "\n",
    "#age, gender, height, weight, ap_hi, ap_lo,\tcholesterol, gluc, smoke, alco, active\t\n",
    "print(sgd.predict(np.array([55,1,156,85,140,90,3,1,0,0,1]).reshape(1,-1)))\n",
    "print(dtc.predict(np.array([55,1,156,85,140,90,3,1,0,0,1]).reshape(1,-1)))\n",
    "print(knc.predict(np.array([55,1,156,85,140,90,3,1,0,0,1]).reshape(1,-1)))\n",
    "print(rfc.predict(np.array([55,1,156,85,140,90,3,1,0,0,1]).reshape(1,-1)))\n",
    "\n",
    "print(sgd.feature_names_in_)\n",
    "#0 for not at risk, 1 for at risk\n",
    "print(df)\n",
    "#data['age'], data['gender'], data['height'], data['weight'], data['ap_hi'], data['ap_lo'], data['cholesterol'], data['gluc'], data['smoke'], data['alco'], data['active']\n"
   ]
  },
  {
   "cell_type": "code",
   "execution_count": null,
   "id": "fce83e08",
   "metadata": {},
   "outputs": [],
   "source": []
  }
 ],
 "metadata": {
  "kernelspec": {
   "display_name": "Python 3.9.13 ('base')",
   "language": "python",
   "name": "python3"
  },
  "language_info": {
   "codemirror_mode": {
    "name": "ipython",
    "version": 3
   },
   "file_extension": ".py",
   "mimetype": "text/x-python",
   "name": "python",
   "nbconvert_exporter": "python",
   "pygments_lexer": "ipython3",
   "version": "3.9.13"
  },
  "papermill": {
   "default_parameters": {},
   "duration": 100.681711,
   "end_time": "2022-09-22T09:46:49.710527",
   "environment_variables": {},
   "exception": null,
   "input_path": "__notebook__.ipynb",
   "output_path": "__notebook__.ipynb",
   "parameters": {},
   "start_time": "2022-09-22T09:45:09.028816",
   "version": "2.3.4"
  },
  "vscode": {
   "interpreter": {
    "hash": "4e1bbc5f9293c061b932d1e4097b113301ae2ea3e3ebef228b4728bad5653811"
   }
  }
 },
 "nbformat": 4,
 "nbformat_minor": 5
}
