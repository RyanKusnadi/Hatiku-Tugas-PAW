{
 "cells": [
  {
   "cell_type": "code",
   "execution_count": 1,
   "metadata": {},
   "outputs": [],
   "source": [
    "from random import choice\n",
    "from experta import *"
   ]
  },
  {
   "cell_type": "code",
   "execution_count": 17,
   "metadata": {},
   "outputs": [],
   "source": [
    "truth_values = []"
   ]
  },
  {
   "cell_type": "code",
   "execution_count": 20,
   "metadata": {},
   "outputs": [
    {
     "ename": "NameError",
     "evalue": "name 'Smoking' is not defined",
     "output_type": "error",
     "traceback": [
      "\u001b[1;31m---------------------------------------------------------------------------\u001b[0m",
      "\u001b[1;31mNameError\u001b[0m                                 Traceback (most recent call last)",
      "\u001b[1;32m~\\AppData\\Local\\Temp\\ipykernel_21364\\841376834.py\u001b[0m in \u001b[0;36m<module>\u001b[1;34m\u001b[0m\n\u001b[0;32m      4\u001b[0m     \u001b[1;32myield\u001b[0m \u001b[0mFact\u001b[0m\u001b[1;33m(\u001b[0m\u001b[0mHigh_Cholesterol\u001b[0m \u001b[1;33m=\u001b[0m \u001b[1;32mFalse\u001b[0m\u001b[1;33m)\u001b[0m\u001b[1;33m\u001b[0m\u001b[1;33m\u001b[0m\u001b[0m\n\u001b[0;32m      5\u001b[0m \u001b[1;33m\u001b[0m\u001b[0m\n\u001b[1;32m----> 6\u001b[1;33m \u001b[0mprint\u001b[0m\u001b[1;33m(\u001b[0m\u001b[0mFact\u001b[0m\u001b[1;33m(\u001b[0m\u001b[0mSmoking\u001b[0m\u001b[1;33m)\u001b[0m\u001b[1;33m)\u001b[0m\u001b[1;33m\u001b[0m\u001b[1;33m\u001b[0m\u001b[0m\n\u001b[0m",
      "\u001b[1;31mNameError\u001b[0m: name 'Smoking' is not defined"
     ]
    }
   ],
   "source": [
    "@DefFacts()\n",
    "def needed_data():\n",
    "    yield Fact(Smoking = [])\n",
    "    yield Fact()\n",
    "\n",
    "print(Fact(Smoking))"
   ]
  },
  {
   "cell_type": "code",
   "execution_count": null,
   "metadata": {},
   "outputs": [],
   "source": [
    "\n",
    "class CVD(KnowledgeEngine):\n",
    "    #@Rule(symptomname(status=t/f))\n",
    "    #def rule_name(self):\n",
    "        #things to run if true\n",
    "\n",
    "    @Rule(Light(color='green'))\n",
    "    def green_light(self):\n",
    "        print(\"Walk\")\n",
    "\n",
    "    @Rule(Light(color='red'))\n",
    "    def red_light(self):\n",
    "        print(\"Don't walk\")\n",
    "\n",
    "    @Rule(AS.light << Light(color=L('yellow') | L('blinking-yellow')))\n",
    "    def cautious(self, light):\n",
    "        print(\"Be cautious because light is\", light[\"color\"])"
   ]
  }
 ],
 "metadata": {
  "kernelspec": {
   "display_name": "Python 3.9.13 ('base')",
   "language": "python",
   "name": "python3"
  },
  "language_info": {
   "codemirror_mode": {
    "name": "ipython",
    "version": 3
   },
   "file_extension": ".py",
   "mimetype": "text/x-python",
   "name": "python",
   "nbconvert_exporter": "python",
   "pygments_lexer": "ipython3",
   "version": "3.9.13"
  },
  "orig_nbformat": 4,
  "vscode": {
   "interpreter": {
    "hash": "4e1bbc5f9293c061b932d1e4097b113301ae2ea3e3ebef228b4728bad5653811"
   }
  }
 },
 "nbformat": 4,
 "nbformat_minor": 2
}
