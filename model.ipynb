{
 "cells": [
  {
   "cell_type": "code",
   "execution_count": 39,
   "id": "196548bc",
   "metadata": {
    "execution": {
     "iopub.execute_input": "2022-09-22T09:45:16.801435Z",
     "iopub.status.busy": "2022-09-22T09:45:16.800368Z",
     "iopub.status.idle": "2022-09-22T09:45:17.600659Z",
     "shell.execute_reply": "2022-09-22T09:45:17.599728Z"
    },
    "papermill": {
     "duration": 0.819937,
     "end_time": "2022-09-22T09:45:17.603322",
     "exception": false,
     "start_time": "2022-09-22T09:45:16.783385",
     "status": "completed"
    },
    "tags": []
   },
   "outputs": [],
   "source": [
    "import pandas as pd\n",
    "import numpy as np\n",
    "import seaborn\n",
    "import matplotlib.pyplot as plt\n",
    "import pickle"
   ]
  },
  {
   "cell_type": "code",
   "execution_count": 40,
   "id": "3933195e",
   "metadata": {
    "execution": {
     "iopub.execute_input": "2022-09-22T09:45:17.624906Z",
     "iopub.status.busy": "2022-09-22T09:45:17.623941Z",
     "iopub.status.idle": "2022-09-22T09:45:17.729219Z",
     "shell.execute_reply": "2022-09-22T09:45:17.728266Z"
    },
    "papermill": {
     "duration": 0.118405,
     "end_time": "2022-09-22T09:45:17.731750",
     "exception": false,
     "start_time": "2022-09-22T09:45:17.613345",
     "status": "completed"
    },
    "tags": []
   },
   "outputs": [],
   "source": [
    "df=pd.read_csv(\"cardio_train.csv\",sep=';')\n",
    "df=df.drop(['id'],axis=1)\n",
    "df['age']=(df['age']/365).round(0)\n",
    "x=df.drop(['cardio'],axis=1)\n",
    "y=df['cardio']\n",
    "\n",
    "from sklearn.model_selection import train_test_split\n",
    "xtrain,xtest,ytrain,ytest=train_test_split(x,y,test_size=.3,random_state=1)"
   ]
  },
  {
   "cell_type": "markdown",
   "id": "8eb0a9c7",
   "metadata": {
    "papermill": {
     "duration": 0.011744,
     "end_time": "2022-09-22T09:45:19.296903",
     "exception": false,
     "start_time": "2022-09-22T09:45:19.285159",
     "status": "completed"
    },
    "tags": []
   },
   "source": [
    "## Random Forest Classification"
   ]
  },
  {
   "cell_type": "code",
   "execution_count": 41,
   "id": "40967699",
   "metadata": {
    "execution": {
     "iopub.execute_input": "2022-09-22T09:45:19.321825Z",
     "iopub.status.busy": "2022-09-22T09:45:19.321482Z",
     "iopub.status.idle": "2022-09-22T09:45:19.465215Z",
     "shell.execute_reply": "2022-09-22T09:45:19.463974Z"
    },
    "papermill": {
     "duration": 0.159225,
     "end_time": "2022-09-22T09:45:19.467806",
     "exception": false,
     "start_time": "2022-09-22T09:45:19.308581",
     "status": "completed"
    },
    "tags": []
   },
   "outputs": [],
   "source": [
    "from sklearn.ensemble import RandomForestClassifier\n",
    "rfc=RandomForestClassifier(n_estimators=1000)\n",
    "rfc.fit(xtrain,ytrain)\n",
    "rfc.predict(xtest)\n",
    "rfc.score(xtest,ytest)\n",
    "pickle.dump(rfc, open('models\\RFC_model.pkl','wb'))"
   ]
  },
  {
   "cell_type": "markdown",
   "id": "dddbfe84",
   "metadata": {
    "papermill": {
     "duration": 0.011913,
     "end_time": "2022-09-22T09:46:42.567079",
     "exception": false,
     "start_time": "2022-09-22T09:46:42.555166",
     "status": "completed"
    },
    "tags": []
   },
   "source": [
    "## Decision Tree"
   ]
  },
  {
   "cell_type": "code",
   "execution_count": 42,
   "id": "c79a91e6",
   "metadata": {
    "execution": {
     "iopub.execute_input": "2022-09-22T09:46:42.593347Z",
     "iopub.status.busy": "2022-09-22T09:46:42.592645Z",
     "iopub.status.idle": "2022-09-22T09:46:42.597461Z",
     "shell.execute_reply": "2022-09-22T09:46:42.596609Z"
    },
    "papermill": {
     "duration": 0.020357,
     "end_time": "2022-09-22T09:46:42.599678",
     "exception": false,
     "start_time": "2022-09-22T09:46:42.579321",
     "status": "completed"
    },
    "tags": []
   },
   "outputs": [],
   "source": [
    "from sklearn.tree import DecisionTreeClassifier\n",
    "\n",
    "dtc=DecisionTreeClassifier()\n",
    "dtc.fit(xtrain,ytrain)\n",
    "dtc.predict(xtest)\n",
    "dtc.score(xtest,ytest)\n",
    "\n",
    "pickle.dump(dtc, open('models\\DTC_model.pkl','wb'))"
   ]
  },
  {
   "cell_type": "markdown",
   "id": "2ca0c8ee",
   "metadata": {
    "papermill": {
     "duration": 0.012002,
     "end_time": "2022-09-22T09:46:43.030780",
     "exception": false,
     "start_time": "2022-09-22T09:46:43.018778",
     "status": "completed"
    },
    "tags": []
   },
   "source": [
    "## Kneighborclassifier"
   ]
  },
  {
   "cell_type": "code",
   "execution_count": 43,
   "id": "81918d33",
   "metadata": {
    "execution": {
     "iopub.execute_input": "2022-09-22T09:46:43.055762Z",
     "iopub.status.busy": "2022-09-22T09:46:43.055458Z",
     "iopub.status.idle": "2022-09-22T09:46:43.059311Z",
     "shell.execute_reply": "2022-09-22T09:46:43.058601Z"
    },
    "papermill": {
     "duration": 0.0184,
     "end_time": "2022-09-22T09:46:43.061072",
     "exception": false,
     "start_time": "2022-09-22T09:46:43.042672",
     "status": "completed"
    },
    "tags": []
   },
   "outputs": [],
   "source": [
    "from sklearn.neighbors import KNeighborsClassifier\n",
    "knc=KNeighborsClassifier()\n",
    "knc.fit(xtrain,ytrain)\n",
    "knc.predict(xtest)\n",
    "knc.score(xtest,ytest)\n",
    "\n",
    "pickle.dump(knc, open('models\\KNC_model.pkl','wb'))"
   ]
  },
  {
   "cell_type": "markdown",
   "id": "dc7d8992",
   "metadata": {
    "papermill": {
     "duration": 0.012879,
     "end_time": "2022-09-22T09:46:45.432211",
     "exception": false,
     "start_time": "2022-09-22T09:46:45.419332",
     "status": "completed"
    },
    "tags": []
   },
   "source": [
    "## SGDClassifier"
   ]
  },
  {
   "cell_type": "code",
   "execution_count": 44,
   "id": "e3c35e4e",
   "metadata": {
    "execution": {
     "iopub.execute_input": "2022-09-22T09:46:45.459073Z",
     "iopub.status.busy": "2022-09-22T09:46:45.458181Z",
     "iopub.status.idle": "2022-09-22T09:46:45.463100Z",
     "shell.execute_reply": "2022-09-22T09:46:45.462246Z"
    },
    "papermill": {
     "duration": 0.020415,
     "end_time": "2022-09-22T09:46:45.465099",
     "exception": false,
     "start_time": "2022-09-22T09:46:45.444684",
     "status": "completed"
    },
    "tags": []
   },
   "outputs": [],
   "source": [
    "from sklearn.linear_model import SGDClassifier\n",
    "sgd=SGDClassifier()\n",
    "sgd.fit(xtrain,ytrain)\n",
    "sgd.predict(xtest)\n",
    "sgd.score(xtest,ytest)\n",
    "\n",
    "pickle.dump(sgd, open('models\\SGD_model.pkl','wb'))"
   ]
  },
  {
   "cell_type": "code",
   "execution_count": 54,
   "id": "30f17093",
   "metadata": {},
   "outputs": [
    {
     "name": "stdout",
     "output_type": "stream",
     "text": [
      "[0]\n"
     ]
    },
    {
     "name": "stderr",
     "output_type": "stream",
     "text": [
      "c:\\Python\\Python38\\lib\\site-packages\\sklearn\\base.py:450: UserWarning: X does not have valid feature names, but SGDClassifier was fitted with feature names\n",
      "  warnings.warn(\n"
     ]
    }
   ],
   "source": [
    "#age, gender, height, weight, ap_hi, ap_lo,\tcholesterol, gluc, smoke, alco, active\t\n",
    "print(sgd.predict(np.array([50,2,168,62,110,80,1,1,0,0,1]).reshape(1,-1)))\n",
    "\n",
    "#0 for not at risk, 1 for at risk\n"
   ]
  }
 ],
 "metadata": {
  "kernelspec": {
   "display_name": "Python 3.8.0 64-bit",
   "language": "python",
   "name": "python3"
  },
  "language_info": {
   "codemirror_mode": {
    "name": "ipython",
    "version": 3
   },
   "file_extension": ".py",
   "mimetype": "text/x-python",
   "name": "python",
   "nbconvert_exporter": "python",
   "pygments_lexer": "ipython3",
   "version": "3.8.0"
  },
  "papermill": {
   "default_parameters": {},
   "duration": 100.681711,
   "end_time": "2022-09-22T09:46:49.710527",
   "environment_variables": {},
   "exception": null,
   "input_path": "__notebook__.ipynb",
   "output_path": "__notebook__.ipynb",
   "parameters": {},
   "start_time": "2022-09-22T09:45:09.028816",
   "version": "2.3.4"
  },
  "vscode": {
   "interpreter": {
    "hash": "b081a66ee97bd2b6a16f43955f1d810b7ea816d6eaeb65e157ef9e038445f0c6"
   }
  }
 },
 "nbformat": 4,
 "nbformat_minor": 5
}
